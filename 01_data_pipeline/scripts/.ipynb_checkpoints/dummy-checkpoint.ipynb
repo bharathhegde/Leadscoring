{
 "cells": [
  {
   "cell_type": "code",
   "execution_count": 4,
   "id": "06e5ef74-4e25-4766-8771-9999977fa243",
   "metadata": {},
   "outputs": [],
   "source": [
    "from utils import*\n",
    "from data_validation_checks import *"
   ]
  },
  {
   "cell_type": "code",
   "execution_count": 5,
   "id": "50d2d529-931d-48f2-93d8-bd185a6b98d6",
   "metadata": {},
   "outputs": [
    {
     "name": "stdout",
     "output_type": "stream",
     "text": [
      "DB Already Exists\n",
      "Raw datas schema is in line with the schema present in schema.py\n",
      "Writing to DataBase loaded_data Done\n",
      "Mapped cities into tiers\n"
     ]
    },
    {
     "name": "stderr",
     "output_type": "stream",
     "text": [
      "/home/Assignment/01_data_pipeline/scripts/utils.py:207: SettingWithCopyWarning: \n",
      "A value is trying to be set on a copy of a slice from a DataFrame.\n",
      "Try using .loc[row_indexer,col_indexer] = value instead\n",
      "\n",
      "See the caveats in the documentation: https://pandas.pydata.org/pandas-docs/stable/user_guide/indexing.html#returning-a-view-versus-a-copy\n",
      "  new_df['first_platform_c'] = \"others\"\n",
      "/home/Assignment/01_data_pipeline/scripts/utils.py:217: SettingWithCopyWarning: \n",
      "A value is trying to be set on a copy of a slice from a DataFrame.\n",
      "Try using .loc[row_indexer,col_indexer] = value instead\n",
      "\n",
      "See the caveats in the documentation: https://pandas.pydata.org/pandas-docs/stable/user_guide/indexing.html#returning-a-view-versus-a-copy\n",
      "  new_df[\"first_utm_medium_c\"] = \"others\"\n",
      "/home/Assignment/01_data_pipeline/scripts/utils.py:227: SettingWithCopyWarning: \n",
      "A value is trying to be set on a copy of a slice from a DataFrame.\n",
      "Try using .loc[row_indexer,col_indexer] = value instead\n",
      "\n",
      "See the caveats in the documentation: https://pandas.pydata.org/pandas-docs/stable/user_guide/indexing.html#returning-a-view-versus-a-copy\n",
      "  new_df[\"first_utm_source_c\"] = \"others\"\n"
     ]
    },
    {
     "name": "stdout",
     "output_type": "stream",
     "text": [
      "Mapped categorical values\n",
      "Storing df_selected_features df to table model_input\n",
      "Mapped interaction values\n"
     ]
    },
    {
     "ename": "NameError",
     "evalue": "name 'sqlite3' is not defined",
     "output_type": "error",
     "traceback": [
      "\u001b[0;31m---------------------------------------------------------------------------\u001b[0m",
      "\u001b[0;31mNameError\u001b[0m                                 Traceback (most recent call last)",
      "Input \u001b[0;32mIn [5]\u001b[0m, in \u001b[0;36m<module>\u001b[0;34m\u001b[0m\n\u001b[1;32m      5\u001b[0m map_categorical_vars()\n\u001b[1;32m      6\u001b[0m interactions_mapping()\n\u001b[0;32m----> 7\u001b[0m \u001b[43mmodel_input_schema_check\u001b[49m\u001b[43m(\u001b[49m\u001b[43m)\u001b[49m\n",
      "File \u001b[0;32m~/Assignment/01_data_pipeline/scripts/data_validation_checks.py:69\u001b[0m, in \u001b[0;36mmodel_input_schema_check\u001b[0;34m()\u001b[0m\n\u001b[1;32m     48\u001b[0m \u001b[38;5;28;01mdef\u001b[39;00m \u001b[38;5;21mmodel_input_schema_check\u001b[39m():\n\u001b[1;32m     49\u001b[0m     \u001b[38;5;124;03m'''\u001b[39;00m\n\u001b[1;32m     50\u001b[0m \u001b[38;5;124;03m    This function check if all the columns mentioned in model_input_schema in \u001b[39;00m\n\u001b[1;32m     51\u001b[0m \u001b[38;5;124;03m    schema.py are present in table named in 'model_input' in db file.\u001b[39;00m\n\u001b[0;32m   (...)\u001b[0m\n\u001b[1;32m     67\u001b[0m \u001b[38;5;124;03m        raw_data_schema_check\u001b[39;00m\n\u001b[1;32m     68\u001b[0m \u001b[38;5;124;03m    '''\u001b[39;00m\n\u001b[0;32m---> 69\u001b[0m     conn \u001b[38;5;241m=\u001b[39m \u001b[43msqlite3\u001b[49m\u001b[38;5;241m.\u001b[39mconnect(DB_PATH \u001b[38;5;241m+\u001b[39m DB_FILE_NAME)\n\u001b[1;32m     70\u001b[0m     df \u001b[38;5;241m=\u001b[39m pd\u001b[38;5;241m.\u001b[39mread_sql(\u001b[38;5;124m'\u001b[39m\u001b[38;5;124mselect * from model_input\u001b[39m\u001b[38;5;124m'\u001b[39m, conn)          \n\u001b[1;32m     71\u001b[0m     conn\u001b[38;5;241m.\u001b[39mclose()\n",
      "\u001b[0;31mNameError\u001b[0m: name 'sqlite3' is not defined"
     ]
    }
   ],
   "source": [
    "build_dbs() \n",
    "raw_data_schema_check()\n",
    "load_data_into_db()\n",
    "map_city_tier()\n",
    "map_categorical_vars()\n",
    "interactions_mapping()\n",
    "model_input_schema_check()"
   ]
  },
  {
   "cell_type": "code",
   "execution_count": null,
   "id": "9bdf95ad-df09-41ca-9f57-14688afc47c6",
   "metadata": {},
   "outputs": [],
   "source": []
  }
 ],
 "metadata": {
  "kernelspec": {
   "display_name": "Python 3 (ipykernel)",
   "language": "python",
   "name": "python3"
  },
  "language_info": {
   "codemirror_mode": {
    "name": "ipython",
    "version": 3
   },
   "file_extension": ".py",
   "mimetype": "text/x-python",
   "name": "python",
   "nbconvert_exporter": "python",
   "pygments_lexer": "ipython3",
   "version": "3.8.12"
  }
 },
 "nbformat": 4,
 "nbformat_minor": 5
}
