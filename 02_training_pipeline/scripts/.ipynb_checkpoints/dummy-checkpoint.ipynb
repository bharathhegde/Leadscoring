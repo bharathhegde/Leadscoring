{
 "cells": [
  {
   "cell_type": "code",
   "execution_count": 1,
   "id": "35497600-71dd-4dd8-9354-f6b7a3c1d599",
   "metadata": {},
   "outputs": [],
   "source": [
    "from utils import *"
   ]
  },
  {
   "cell_type": "code",
   "execution_count": 2,
   "id": "3f364b01-3382-483b-9484-70f727cfaa42",
   "metadata": {},
   "outputs": [
    {
     "name": "stdout",
     "output_type": "stream",
     "text": [
      "Loading model_input\n",
      "One hot encoding features\n",
      "Storing 'target' table\n",
      "Storing feature table\n",
      "2.6.0\n"
     ]
    },
    {
     "name": "stderr",
     "output_type": "stream",
     "text": [
      "/opt/conda/lib/python3.8/site-packages/sklearn/utils/validation.py:72: DataConversionWarning: A column-vector y was passed when a 1d array was expected. Please change the shape of y to (n_samples, ), for example using ravel().\n",
      "  return f(**kwargs)\n"
     ]
    },
    {
     "name": "stdout",
     "output_type": "stream",
     "text": [
      "[LightGBM] [Warning] bagging_fraction is set=0.887437593014418, subsample=1.0 will be ignored. Current value: bagging_fraction=0.887437593014418\n",
      "[LightGBM] [Warning] feature_fraction is set=0.7588282465072769, colsample_bytree=1.0 will be ignored. Current value: feature_fraction=0.7588282465072769\n",
      "[LightGBM] [Warning] bagging_freq is set=1, subsample_freq=0 will be ignored. Current value: bagging_freq=1\n"
     ]
    },
    {
     "name": "stderr",
     "output_type": "stream",
     "text": [
      "Registered model 'LightGBM' already exists. Creating a new version of this model...\n",
      "2023/12/27 05:10:26 INFO mlflow.tracking._model_registry.client: Waiting up to 300 seconds for model version to finish creation.                     Model name: LightGBM, version 3\n",
      "Created version '3' of model 'LightGBM'.\n"
     ]
    },
    {
     "name": "stdout",
     "output_type": "stream",
     "text": [
      "Recall= 0.7436772989508174\n",
      "Precision= 0.7284517615591367\n"
     ]
    },
    {
     "ename": "NameError",
     "evalue": "name 'auc' is not defined",
     "output_type": "error",
     "traceback": [
      "\u001b[0;31m---------------------------------------------------------------------------\u001b[0m",
      "\u001b[0;31mNameError\u001b[0m                                 Traceback (most recent call last)",
      "Input \u001b[0;32mIn [2]\u001b[0m, in \u001b[0;36m<module>\u001b[0;34m\u001b[0m\n\u001b[1;32m      1\u001b[0m encode_features()\n\u001b[0;32m----> 2\u001b[0m \u001b[43mget_trained_model\u001b[49m\u001b[43m(\u001b[49m\u001b[43m)\u001b[49m\n",
      "File \u001b[0;32m~/Assignment/02_training_pipeline/scripts/utils.py:198\u001b[0m, in \u001b[0;36mget_trained_model\u001b[0;34m()\u001b[0m\n\u001b[1;32m    196\u001b[0m \u001b[38;5;28mprint\u001b[39m(\u001b[38;5;124m\"\u001b[39m\u001b[38;5;124mRecall=\u001b[39m\u001b[38;5;124m\"\u001b[39m, recall)\n\u001b[1;32m    197\u001b[0m \u001b[38;5;28mprint\u001b[39m(\u001b[38;5;124m\"\u001b[39m\u001b[38;5;124mPrecision=\u001b[39m\u001b[38;5;124m\"\u001b[39m, precision)\n\u001b[0;32m--> 198\u001b[0m \u001b[38;5;28mprint\u001b[39m(\u001b[38;5;124m\"\u001b[39m\u001b[38;5;124mAUC=\u001b[39m\u001b[38;5;124m\"\u001b[39m, \u001b[43mauc\u001b[49m)\n\u001b[1;32m    200\u001b[0m mlflow\u001b[38;5;241m.\u001b[39mlog_metric(\u001b[38;5;124m'\u001b[39m\u001b[38;5;124mtest_accuracy\u001b[39m\u001b[38;5;124m'\u001b[39m, acc)\n\u001b[1;32m    201\u001b[0m mlflow\u001b[38;5;241m.\u001b[39mlog_metric(\u001b[38;5;124m\"\u001b[39m\u001b[38;5;124mf1\u001b[39m\u001b[38;5;124m\"\u001b[39m, f1)\n",
      "\u001b[0;31mNameError\u001b[0m: name 'auc' is not defined"
     ]
    }
   ],
   "source": [
    "encode_features()\n",
    "get_trained_model()"
   ]
  },
  {
   "cell_type": "code",
   "execution_count": null,
   "id": "f545a711-b361-407f-a2ce-74b16896f92e",
   "metadata": {},
   "outputs": [],
   "source": []
  }
 ],
 "metadata": {
  "kernelspec": {
   "display_name": "Python 3 (ipykernel)",
   "language": "python",
   "name": "python3"
  },
  "language_info": {
   "codemirror_mode": {
    "name": "ipython",
    "version": 3
   },
   "file_extension": ".py",
   "mimetype": "text/x-python",
   "name": "python",
   "nbconvert_exporter": "python",
   "pygments_lexer": "ipython3",
   "version": "3.8.12"
  }
 },
 "nbformat": 4,
 "nbformat_minor": 5
}
