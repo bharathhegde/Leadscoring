{
 "cells": [
  {
   "cell_type": "code",
   "execution_count": 1,
   "id": "52cbc9ac-66ca-4d14-b92a-4ac231b989f6",
   "metadata": {},
   "outputs": [],
   "source": [
    "from utils import *"
   ]
  },
  {
   "cell_type": "code",
   "execution_count": 2,
   "id": "7f70ce61-99c8-4e4c-a85e-55320ab8a61d",
   "metadata": {},
   "outputs": [
    {
     "name": "stdout",
     "output_type": "stream",
     "text": [
      "Loading model_input\n",
      "One hot encoding features\n",
      "features created/replaced\n"
     ]
    }
   ],
   "source": [
    "encode_features()\n",
    "input_features_check()"
   ]
  },
  {
   "cell_type": "code",
   "execution_count": 3,
   "id": "288023c7-0a68-441f-b491-3015764912a4",
   "metadata": {},
   "outputs": [
    {
     "name": "stdout",
     "output_type": "stream",
     "text": [
      "Loading Model url models:/LightGBM/production\n",
      "Predicting...\n",
      "Predictions complete successfully\n"
     ]
    }
   ],
   "source": [
    "get_models_prediction()"
   ]
  },
  {
   "cell_type": "code",
   "execution_count": 4,
   "id": "8d139915-2f8b-4e97-bbe4-0ec84a864b46",
   "metadata": {},
   "outputs": [],
   "source": [
    "prediction_ratio_check()"
   ]
  },
  {
   "cell_type": "code",
   "execution_count": null,
   "id": "72b66ded-7424-461e-a4d6-404007912b13",
   "metadata": {},
   "outputs": [],
   "source": []
  }
 ],
 "metadata": {
  "kernelspec": {
   "display_name": "Python 3 (ipykernel)",
   "language": "python",
   "name": "python3"
  },
  "language_info": {
   "codemirror_mode": {
    "name": "ipython",
    "version": 3
   },
   "file_extension": ".py",
   "mimetype": "text/x-python",
   "name": "python",
   "nbconvert_exporter": "python",
   "pygments_lexer": "ipython3",
   "version": "3.8.12"
  }
 },
 "nbformat": 4,
 "nbformat_minor": 5
}
